{
 "cells": [
  {
   "cell_type": "code",
   "execution_count": null,
   "id": "b5208cd1-c605-41bb-877e-91265c9ab19f",
   "metadata": {},
   "outputs": [],
   "source": [
    "Assignment 1 - Arrays\n",
    "Question-1\n",
    "💡 **Q1.** Given an array of integers nums and an integer target, return \n",
    "indices of the two numbers such that they add up to target.\n",
    "\n",
    "You may assume that each input would have exactly one solution, \n",
    "and you may not use the same element twice.\n",
    "\n",
    "You can return the answer in any order.\n",
    "\n",
    "Example: Input: nums = [2,7,11,15], target = 9 Output = [0,1]\n",
    "\n",
    "Explanation: Because nums[0] + nums[1] == 9, we return [0, 1]"
   ]
  },
  {
   "cell_type": "code",
   "execution_count": 3,
   "id": "70e7622c-038a-4a68-8cdc-0c797a77be81",
   "metadata": {},
   "outputs": [
    {
     "name": "stdin",
     "output_type": "stream",
     "text": [
      "Enter the number of elements in array :  4\n",
      "Enter the 0 element : 1\n",
      "Enter the 1 element : 2\n",
      "Enter the 2 element : 3\n",
      "Enter the 3 element : 4\n"
     ]
    },
    {
     "name": "stdout",
     "output_type": "stream",
     "text": [
      "The Array is  [1, 2, 3, 4]\n"
     ]
    },
    {
     "name": "stdin",
     "output_type": "stream",
     "text": [
      "Enter the target Element : 5\n"
     ]
    },
    {
     "name": "stdout",
     "output_type": "stream",
     "text": [
      "[0, 3]\n"
     ]
    }
   ],
   "source": [
    "nums = int(input(\"Enter the number of elements in array : \"))\n",
    "arr = []\n",
    "for i in range(nums):\n",
    "    arr.append(int(input(f'Enter the {i} element :')))\n",
    "print(\"The Array is \",arr)\n",
    "target = int(input(\"Enter the target Element :\"))\n",
    "\n",
    "\n",
    "def sum(arr,target,num):\n",
    "    for i in range(num):\n",
    "        for j in range(i+1,num):\n",
    "            if arr[i]+arr[j] == target :\n",
    "                return [i,j]\n",
    "print(sum(arr,target,nums))"
   ]
  },
  {
   "cell_type": "code",
   "execution_count": null,
   "id": "f55b3b6b-f899-4b97-a865-c6f424dc852f",
   "metadata": {},
   "outputs": [],
   "source": [
    "Question-2\n",
    "💡 **Q2.** Given an integer array nums and an integer val, remove all occurrences of val \n",
    "in nums in-place. The order of the elements may be changed. Then return the number of elements \n",
    "in nums which are not equal to val.\n",
    "\n",
    "Consider the number of elements in nums which are not equal to val be k, to get accepted, \n",
    "you need to do the following things:\n",
    "\n",
    "Change the array nums such that the first k elements of nums contain the elements which \n",
    "are not equal to val. The remaining elements of nums are not important as well as the size of nums.\n",
    "Return k.\n",
    "Example : Input: nums = [3,2,2,3], val = 3 Output: 2, nums = [2,2,*,*]\n",
    "\n",
    "Explanation: Your function should return k = 2, with the first two elements of nums being 2. \n",
    "It does not matter what you leave beyond the returned k (hence they are underscores)"
   ]
  },
  {
   "cell_type": "code",
   "execution_count": 13,
   "id": "e9a89ec3-16f0-4ff9-8674-8313965f4982",
   "metadata": {},
   "outputs": [
    {
     "name": "stdin",
     "output_type": "stream",
     "text": [
      "Enter the number of elements :  4\n",
      "Enter the 0 element : 3\n",
      "Enter the 1 element : 2\n",
      "Enter the 2 element : 2\n",
      "Enter the 3 element : 3\n",
      "Enter the Value :  3\n"
     ]
    },
    {
     "name": "stdout",
     "output_type": "stream",
     "text": [
      "The Array is  [3, 2, 2, 3]\n",
      "New Array : [2, 2, '_', '_']\n"
     ]
    }
   ],
   "source": [
    "nums = int(input(\"Enter the number of elements : \"))\n",
    "arr = []\n",
    "for i in range(nums):\n",
    "    arr.append(int(input(f'Enter the {i} element :')))\n",
    "val = int(input(\"Enter the Value : \"))\n",
    "print(\"The Array is \",arr)\n",
    "\n",
    "def remove(arr,val,num):\n",
    "    k = []\n",
    "    for i in range(num):\n",
    "        if arr[i] != val :\n",
    "            k.append(arr[i])\n",
    "    for i in range(len(k),num):\n",
    "        k.append(\"_\")\n",
    "    return k\n",
    "#print(\"Number of elements removed : \",c)\n",
    "print(\"New Array :\",remove(arr,val,nums))"
   ]
  },
  {
   "cell_type": "code",
   "execution_count": null,
   "id": "68b49d03-f60a-4d69-9a88-fab6b12b47c1",
   "metadata": {},
   "outputs": [],
   "source": [
    "Quesstion-3\n",
    "💡 **Q3.** Given a sorted array of distinct integers and a target value, return the index \n",
    "if the target is found. If not, return the index where it would be if it were inserted in order.\n",
    "\n",
    "You must write an algorithm with O(log n) runtime complexity.\n",
    "\n",
    "Example 1: Input: nums = [1,3,5,6], target = 5\n",
    "\n",
    "Output: 2"
   ]
  },
  {
   "cell_type": "code",
   "execution_count": 18,
   "id": "fed67c17-1230-42f5-8d40-d717625483dd",
   "metadata": {},
   "outputs": [
    {
     "name": "stdin",
     "output_type": "stream",
     "text": [
      "Enter the number of elements in array :  4\n",
      "Enter the 0 element : 1\n",
      "Enter the 1 element : 3\n",
      "Enter the 2 element : 5\n",
      "Enter the 3 element : 6\n"
     ]
    },
    {
     "name": "stdout",
     "output_type": "stream",
     "text": [
      "The Array is  [1, 3, 5, 6]\n"
     ]
    },
    {
     "name": "stdin",
     "output_type": "stream",
     "text": [
      "Enter the target Element : 5\n"
     ]
    },
    {
     "name": "stdout",
     "output_type": "stream",
     "text": [
      "Position : 2\n"
     ]
    }
   ],
   "source": [
    "nums = int(input(\"Enter the number of elements in array : \"))\n",
    "arr = []\n",
    "for i in range(nums):\n",
    "    arr.append(int(input(f'Enter the {i} element :')))\n",
    "print(\"The Array is \",arr)\n",
    "target = int(input(\"Enter the target Element :\"))\n",
    "\n",
    "def find(arr,target,num):\n",
    "    for i in range(num):\n",
    "        if arr[i] == target:\n",
    "            return i\n",
    "        else :\n",
    "            j = 0\n",
    "            while(arr[j] < target):\n",
    "                j += 1\n",
    "            return j\n",
    "print(\"Position :\",find(arr,target,nums))"
   ]
  },
  {
   "cell_type": "code",
   "execution_count": null,
   "id": "8249e7e0-189f-4075-bb2d-20c641018f1f",
   "metadata": {},
   "outputs": [],
   "source": [
    "Question-4\n",
    "💡 **Q4.** You are given a large integer represented as an integer array digits, where each digits[i] \n",
    "is the ith digit of the integer. The digits are ordered from most significant to least significant in \n",
    "left-to-right order. The large integer does not contain any leading 0's.\n",
    "\n",
    "Increment the large integer by one and return the resulting array of digits.\n",
    "\n",
    "Example 1: Input: digits = [1,2,3] Output: [1,2,4]\n",
    "\n",
    "Explanation: The array represents the integer 123.\n",
    "\n",
    "Incrementing by one gives 123 + 1 = 124. Thus, the result should be [1,2,4]."
   ]
  },
  {
   "cell_type": "code",
   "execution_count": 5,
   "id": "8bb14d37-35f0-4106-95ae-8627fd250e8e",
   "metadata": {},
   "outputs": [
    {
     "name": "stdin",
     "output_type": "stream",
     "text": [
      "Enter the number of elements in array :  3\n",
      "Enter the 0 element : 1\n",
      "Enter the 1 element : 2\n",
      "Enter the 2 element : 3\n"
     ]
    },
    {
     "name": "stdout",
     "output_type": "stream",
     "text": [
      "The Array is  [1, 2, 3]\n",
      "Result :  [1, 2, 4]\n"
     ]
    }
   ],
   "source": [
    "nums = int(input(\"Enter the number of elements in array : \"))\n",
    "arr = []\n",
    "for i in range(nums):\n",
    "    arr.append(int(input(f'Enter the {i} element :')))\n",
    "print(\"The Array is \",arr)\n",
    "\n",
    "def number(arr):\n",
    "    s = \"\"\n",
    "    ans = []\n",
    "    for i in arr:\n",
    "        s = s + str(i)\n",
    "    num = int(s)\n",
    "    temp_num = num + 1\n",
    "    while(temp_num > 0):\n",
    "        r = temp_num % 10\n",
    "        ans.append(r)\n",
    "        temp_num = temp_num // 10\n",
    "    return ans\n",
    "ans = number(arr)\n",
    "ans.reverse()\n",
    "print(\"Result : \",ans)"
   ]
  },
  {
   "cell_type": "code",
   "execution_count": null,
   "id": "d2cb3870-2ebc-4a9b-9a02-9178746a0780",
   "metadata": {},
   "outputs": [],
   "source": [
    "Question-5\n",
    "💡 **Q5.** You are given two integer arrays nums1 and nums2, sorted in non-decreasing order, \n",
    "and two integers m and n, representing the number of elements in nums1 and nums2 respectively.\n",
    "Merge nums1 and nums2 into a single array sorted in non-decreasing order.\n",
    "\n",
    "The final sorted array should not be returned by the function, but instead be stored inside \n",
    "the array nums1. To accommodate this, nums1 has a length of m + n, where the first m elements \n",
    "denote the elements that should be merged, and the last n elements are set to 0 and should be \n",
    "ignored. nums2 has a length of n.\n",
    "\n",
    "Example 1: Input: nums1 = [1,2,3,0,0,0], m = 3, nums2 = [2,5,6], n = 3 Output: [1,2,2,3,5,6]\n",
    "\n",
    "Explanation: The arrays we are merging are [1,2,3] and [2,5,6]. \n",
    "The result of the merge is [1,2,2,3,5,6] with the underlined elements coming from nums1."
   ]
  },
  {
   "cell_type": "code",
   "execution_count": 7,
   "id": "bdd2d76b-20b8-4421-b7a5-c035a0154992",
   "metadata": {},
   "outputs": [
    {
     "name": "stdin",
     "output_type": "stream",
     "text": [
      "Enter the number of elements the 1st array :  6\n",
      "Enter the 0 element : 1\n",
      "Enter the 1 element : 2\n",
      "Enter the 2 element : 3\n",
      "Enter the 3 element : 0\n",
      "Enter the 4 element : 0\n",
      "Enter the 5 element : 0\n"
     ]
    },
    {
     "name": "stdout",
     "output_type": "stream",
     "text": [
      "The 1st Array is  [1, 2, 3, 0, 0, 0]\n"
     ]
    },
    {
     "name": "stdin",
     "output_type": "stream",
     "text": [
      "\n",
      "Enter the number of elements the 2nd array :  3\n",
      "Enter the 0 element : 2\n",
      "Enter the 1 element : 5\n",
      "Enter the 2 element : 6\n"
     ]
    },
    {
     "name": "stdout",
     "output_type": "stream",
     "text": [
      "The 2nd Array is  [2, 5, 6]\n"
     ]
    },
    {
     "name": "stdin",
     "output_type": "stream",
     "text": [
      "\n",
      "Enter the value of m :  3\n",
      "Enter the value of n :  3\n"
     ]
    },
    {
     "name": "stdout",
     "output_type": "stream",
     "text": [
      "\n",
      "The Final Merged Array :  [1, 2, 2, 3, 5, 6]\n"
     ]
    }
   ],
   "source": [
    "len1 = int(input(\"Enter the number of elements the 1st array : \"))\n",
    "nums1 = []\n",
    "for i in range(len1):\n",
    "    nums1.append(int(input(f'Enter the {i} element :')))\n",
    "print(\"The 1st Array is \",nums1)\n",
    "\n",
    "\n",
    "len2 = int(input(\"\\nEnter the number of elements the 2nd array : \"))\n",
    "nums2 = []\n",
    "for i in range(len2):\n",
    "    nums2.append(int(input(f'Enter the {i} element :')))\n",
    "print(\"The 2nd Array is \",nums2)\n",
    "\n",
    "m = int(input(\"\\nEnter the value of m : \"))\n",
    "n = int(input(\"Enter the value of n : \"))\n",
    "\n",
    "def combine(nums1,m,nums2,n):\n",
    "    final_arr = []\n",
    "    for i in range(m):\n",
    "        final_arr.append(nums1[i])\n",
    "    for i in range(n):\n",
    "        final_arr.append(nums2[i])\n",
    "    final_arr.sort()\n",
    "    return final_arr\n",
    "\n",
    "print(\"\\nThe Final Merged Array : \",combine(nums1,m,nums2,n))\n",
    "\n",
    "    "
   ]
  },
  {
   "cell_type": "code",
   "execution_count": null,
   "id": "898cf26a-4260-4630-ac2b-0e300c7cfa76",
   "metadata": {},
   "outputs": [],
   "source": [
    "Question-6\n",
    "💡 **Q6.** Given an integer array nums, return true if any value appears at least twice in the array,\n",
    "and return false if every element is distinct.\n",
    "Example 1: Input: nums = [1,2,3,1]\n",
    "\n",
    "Output: true"
   ]
  },
  {
   "cell_type": "code",
   "execution_count": 14,
   "id": "4b7b1d61-3f0d-468b-a5c4-55aeae613968",
   "metadata": {},
   "outputs": [
    {
     "name": "stdin",
     "output_type": "stream",
     "text": [
      "Enter the number of elements in array :  4\n",
      "Enter the 0 element : 1\n",
      "Enter the 1 element : 2\n",
      "Enter the 2 element : 3\n",
      "Enter the 3 element : 1\n"
     ]
    },
    {
     "name": "stdout",
     "output_type": "stream",
     "text": [
      "\n",
      "The Array is  [1, 2, 3, 1]\n",
      "\n",
      "Result :  True\n"
     ]
    }
   ],
   "source": [
    "nums = int(input(\"Enter the number of elements in array : \"))\n",
    "arr = []\n",
    "for i in range(nums):\n",
    "    arr.append(int(input(f'Enter the {i} element :')))\n",
    "print(\"\\nThe Array is \",arr)\n",
    "\n",
    "def search(arr,num):\n",
    "    for i in range(num):\n",
    "        for j in range(i+1,num):\n",
    "            if arr[i] == arr[j] :\n",
    "                return True\n",
    "count = False\n",
    "if search(arr,nums) == True :\n",
    "    count = True\n",
    "print(\"\\nResult : \",count)"
   ]
  },
  {
   "cell_type": "code",
   "execution_count": null,
   "id": "a6a10464-9788-4476-9383-caafe2c269f1",
   "metadata": {},
   "outputs": [],
   "source": [
    "Question-7\n",
    "💡 **Q7.** Given an integer array nums, move all 0's to the end of it while\n",
    "maintaining the relative order of the nonzero elements.\n",
    "\n",
    "Note that you must do this in-place without making a copy of the array.\n",
    "\n",
    "Example 1: Input: nums = [0,1,0,3,12] Output: [1,3,12,0,0]"
   ]
  },
  {
   "cell_type": "code",
   "execution_count": 17,
   "id": "db036dff-738d-4308-ab57-bbddd7b7d522",
   "metadata": {},
   "outputs": [
    {
     "name": "stdin",
     "output_type": "stream",
     "text": [
      "Enter the number of elements present in the array:  5\n",
      "Enter element at index-0:  1\n",
      "Enter element at index-1:  1\n",
      "Enter element at index-2:  0\n",
      "Enter element at index-3:  5\n",
      "Enter element at index-4:  0\n"
     ]
    },
    {
     "name": "stdout",
     "output_type": "stream",
     "text": [
      "Array is:  [1, 1, 0, 5, 0]\n",
      "Output: [1, 1, 5, 0, 0]\n"
     ]
    }
   ],
   "source": [
    "num = int(input('Enter the number of elements present in the array: '))\n",
    "arr = []\n",
    "for i in range(num):\n",
    "    arr.append(int(input(f'Enter element at index-{i}: ')))\n",
    "print('Array is: ',arr)\n",
    "\n",
    "def sortnum(nums):\n",
    "    arr.sort(key=lambda x: x == 0)\n",
    "    return arr\n",
    "\n",
    "result = sortnum(nums)\n",
    "print(\"Output:\", result)"
   ]
  },
  {
   "cell_type": "code",
   "execution_count": null,
   "id": "95212351-25c4-4b22-b4b3-380e95e6d18b",
   "metadata": {},
   "outputs": [],
   "source": [
    "Question-8\n",
    "💡 **Q8.** You have a set of integers s, which originally contains all the numbers from 1 to \n",
    "n. Unfortunately, due to some error, one of the numbers in s got duplicated to another number\n",
    "in the set, which results in repetition of one number and loss of another number.\n",
    "You are given an integer array nums representing the data status of this set after the error.\n",
    "\n",
    "Find the number that occurs twice and the number that is missing and return them in the \n",
    "form of an array.\n",
    "\n",
    "Example 1: Input: nums = [1,2,2,4] Output: [2,3]"
   ]
  },
  {
   "cell_type": "code",
   "execution_count": 23,
   "id": "696d8eb1-ba2f-47ec-90d0-93f51b2cdc24",
   "metadata": {},
   "outputs": [
    {
     "name": "stdin",
     "output_type": "stream",
     "text": [
      "Enter the number of elements in array :  4\n",
      "Enter the 0 element : 1\n",
      "Enter the 1 element : 2\n",
      "Enter the 2 element : 2\n",
      "Enter the 3 element : 4\n"
     ]
    },
    {
     "name": "stdout",
     "output_type": "stream",
     "text": [
      "\n",
      "The Array is  [1, 2, 2, 4]\n",
      "Solution :  [2, 3]\n"
     ]
    }
   ],
   "source": [
    "nums = int(input(\"Enter the number of elements in array : \"))\n",
    "arr = []\n",
    "for i in range(nums):\n",
    "    arr.append(int(input(f'Enter the {i} element :')))\n",
    "print(\"\\nThe Array is \",arr)\n",
    "\n",
    "def correct(arr,num):\n",
    "    sol = []\n",
    "    for i in range(num):\n",
    "        for j in range(i+1,num):\n",
    "            if(arr[i]==arr[j]):\n",
    "                sol.append(arr[i])\n",
    "    for i in range(num-1):\n",
    "        j = i+1\n",
    "        if arr[i]+1 != arr[j] :\n",
    "            sol.append(arr[i]+1)\n",
    "            return sol\n",
    "\n",
    "print(\"Solution : \",correct(arr,nums))"
   ]
  },
  {
   "cell_type": "code",
   "execution_count": null,
   "id": "26c9b933-dfde-422b-a96d-008f18cb4b07",
   "metadata": {},
   "outputs": [],
   "source": []
  }
 ],
 "metadata": {
  "kernelspec": {
   "display_name": "Python 3 (ipykernel)",
   "language": "python",
   "name": "python3"
  },
  "language_info": {
   "codemirror_mode": {
    "name": "ipython",
    "version": 3
   },
   "file_extension": ".py",
   "mimetype": "text/x-python",
   "name": "python",
   "nbconvert_exporter": "python",
   "pygments_lexer": "ipython3",
   "version": "3.10.8"
  }
 },
 "nbformat": 4,
 "nbformat_minor": 5
}
